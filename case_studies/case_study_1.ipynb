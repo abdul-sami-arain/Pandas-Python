{
 "cells": [
  {
   "cell_type": "markdown",
   "id": "ccd88aea",
   "metadata": {},
   "source": [
    "# CASE STUDY:\n",
    "## HEROS OF PYMOLI:"
   ]
  },
  {
   "cell_type": "code",
   "execution_count": 170,
   "id": "8c52c683",
   "metadata": {},
   "outputs": [],
   "source": [
    "import pandas as pd\n",
    "import numpy as np"
   ]
  },
  {
   "cell_type": "code",
   "execution_count": 3,
   "id": "4fda2b9e",
   "metadata": {},
   "outputs": [],
   "source": [
    "data=pd.read_csv('https://raw.githubusercontent.com/shreymukh/Pandas-Challenge/master/HeroesofPymoli/purchase_data.csv')"
   ]
  },
  {
   "cell_type": "code",
   "execution_count": 116,
   "id": "1ab1f664",
   "metadata": {},
   "outputs": [
    {
     "data": {
      "text/html": [
       "<div>\n",
       "<style scoped>\n",
       "    .dataframe tbody tr th:only-of-type {\n",
       "        vertical-align: middle;\n",
       "    }\n",
       "\n",
       "    .dataframe tbody tr th {\n",
       "        vertical-align: top;\n",
       "    }\n",
       "\n",
       "    .dataframe thead th {\n",
       "        text-align: right;\n",
       "    }\n",
       "</style>\n",
       "<table border=\"1\" class=\"dataframe\">\n",
       "  <thead>\n",
       "    <tr style=\"text-align: right;\">\n",
       "      <th></th>\n",
       "      <th>Purchase ID</th>\n",
       "      <th>SN</th>\n",
       "      <th>Age</th>\n",
       "      <th>Gender</th>\n",
       "      <th>Item ID</th>\n",
       "      <th>Item Name</th>\n",
       "      <th>Price</th>\n",
       "    </tr>\n",
       "  </thead>\n",
       "  <tbody>\n",
       "    <tr>\n",
       "      <th>0</th>\n",
       "      <td>0</td>\n",
       "      <td>Lisim78</td>\n",
       "      <td>20</td>\n",
       "      <td>Male</td>\n",
       "      <td>108</td>\n",
       "      <td>Extraction, Quickblade Of Trembling Hands</td>\n",
       "      <td>3.53</td>\n",
       "    </tr>\n",
       "    <tr>\n",
       "      <th>1</th>\n",
       "      <td>1</td>\n",
       "      <td>Lisovynya38</td>\n",
       "      <td>40</td>\n",
       "      <td>Male</td>\n",
       "      <td>143</td>\n",
       "      <td>Frenzied Scimitar</td>\n",
       "      <td>1.56</td>\n",
       "    </tr>\n",
       "    <tr>\n",
       "      <th>2</th>\n",
       "      <td>2</td>\n",
       "      <td>Ithergue48</td>\n",
       "      <td>24</td>\n",
       "      <td>Male</td>\n",
       "      <td>92</td>\n",
       "      <td>Final Critic</td>\n",
       "      <td>4.88</td>\n",
       "    </tr>\n",
       "    <tr>\n",
       "      <th>3</th>\n",
       "      <td>3</td>\n",
       "      <td>Chamassasya86</td>\n",
       "      <td>24</td>\n",
       "      <td>Male</td>\n",
       "      <td>100</td>\n",
       "      <td>Blindscythe</td>\n",
       "      <td>3.27</td>\n",
       "    </tr>\n",
       "    <tr>\n",
       "      <th>4</th>\n",
       "      <td>4</td>\n",
       "      <td>Iskosia90</td>\n",
       "      <td>23</td>\n",
       "      <td>Male</td>\n",
       "      <td>131</td>\n",
       "      <td>Fury</td>\n",
       "      <td>1.44</td>\n",
       "    </tr>\n",
       "    <tr>\n",
       "      <th>5</th>\n",
       "      <td>5</td>\n",
       "      <td>Yalae81</td>\n",
       "      <td>22</td>\n",
       "      <td>Male</td>\n",
       "      <td>81</td>\n",
       "      <td>Dreamkiss</td>\n",
       "      <td>3.61</td>\n",
       "    </tr>\n",
       "    <tr>\n",
       "      <th>6</th>\n",
       "      <td>6</td>\n",
       "      <td>Itheria73</td>\n",
       "      <td>36</td>\n",
       "      <td>Male</td>\n",
       "      <td>169</td>\n",
       "      <td>Interrogator, Blood Blade of the Queen</td>\n",
       "      <td>2.18</td>\n",
       "    </tr>\n",
       "    <tr>\n",
       "      <th>7</th>\n",
       "      <td>7</td>\n",
       "      <td>Iskjaskst81</td>\n",
       "      <td>20</td>\n",
       "      <td>Male</td>\n",
       "      <td>162</td>\n",
       "      <td>Abyssal Shard</td>\n",
       "      <td>2.67</td>\n",
       "    </tr>\n",
       "    <tr>\n",
       "      <th>8</th>\n",
       "      <td>8</td>\n",
       "      <td>Undjask33</td>\n",
       "      <td>22</td>\n",
       "      <td>Male</td>\n",
       "      <td>21</td>\n",
       "      <td>Souleater</td>\n",
       "      <td>1.10</td>\n",
       "    </tr>\n",
       "    <tr>\n",
       "      <th>9</th>\n",
       "      <td>9</td>\n",
       "      <td>Chanosian48</td>\n",
       "      <td>35</td>\n",
       "      <td>Other / Non-Disclosed</td>\n",
       "      <td>136</td>\n",
       "      <td>Ghastly Adamantite Protector</td>\n",
       "      <td>3.58</td>\n",
       "    </tr>\n",
       "    <tr>\n",
       "      <th>10</th>\n",
       "      <td>10</td>\n",
       "      <td>Inguron55</td>\n",
       "      <td>23</td>\n",
       "      <td>Male</td>\n",
       "      <td>95</td>\n",
       "      <td>Singed Onyx Warscythe</td>\n",
       "      <td>4.74</td>\n",
       "    </tr>\n",
       "    <tr>\n",
       "      <th>11</th>\n",
       "      <td>11</td>\n",
       "      <td>Haisrisuir60</td>\n",
       "      <td>23</td>\n",
       "      <td>Male</td>\n",
       "      <td>162</td>\n",
       "      <td>Abyssal Shard</td>\n",
       "      <td>2.67</td>\n",
       "    </tr>\n",
       "    <tr>\n",
       "      <th>12</th>\n",
       "      <td>12</td>\n",
       "      <td>Saelaephos52</td>\n",
       "      <td>21</td>\n",
       "      <td>Male</td>\n",
       "      <td>116</td>\n",
       "      <td>Renewed Skeletal Katana</td>\n",
       "      <td>4.18</td>\n",
       "    </tr>\n",
       "    <tr>\n",
       "      <th>13</th>\n",
       "      <td>13</td>\n",
       "      <td>Assjaskan73</td>\n",
       "      <td>22</td>\n",
       "      <td>Male</td>\n",
       "      <td>4</td>\n",
       "      <td>Bloodlord's Fetish</td>\n",
       "      <td>1.70</td>\n",
       "    </tr>\n",
       "    <tr>\n",
       "      <th>14</th>\n",
       "      <td>14</td>\n",
       "      <td>Saesrideu94</td>\n",
       "      <td>35</td>\n",
       "      <td>Male</td>\n",
       "      <td>165</td>\n",
       "      <td>Bone Crushing Silver Skewer</td>\n",
       "      <td>4.86</td>\n",
       "    </tr>\n",
       "    <tr>\n",
       "      <th>15</th>\n",
       "      <td>15</td>\n",
       "      <td>Lisassa64</td>\n",
       "      <td>21</td>\n",
       "      <td>Female</td>\n",
       "      <td>98</td>\n",
       "      <td>Deadline, Voice Of Subtlety</td>\n",
       "      <td>2.89</td>\n",
       "    </tr>\n",
       "    <tr>\n",
       "      <th>16</th>\n",
       "      <td>16</td>\n",
       "      <td>Lisirra25</td>\n",
       "      <td>20</td>\n",
       "      <td>Male</td>\n",
       "      <td>40</td>\n",
       "      <td>Second Chance</td>\n",
       "      <td>2.52</td>\n",
       "    </tr>\n",
       "    <tr>\n",
       "      <th>17</th>\n",
       "      <td>17</td>\n",
       "      <td>Zontibe81</td>\n",
       "      <td>21</td>\n",
       "      <td>Male</td>\n",
       "      <td>161</td>\n",
       "      <td>Devine</td>\n",
       "      <td>1.76</td>\n",
       "    </tr>\n",
       "    <tr>\n",
       "      <th>18</th>\n",
       "      <td>18</td>\n",
       "      <td>Reunasu60</td>\n",
       "      <td>22</td>\n",
       "      <td>Female</td>\n",
       "      <td>82</td>\n",
       "      <td>Nirvana</td>\n",
       "      <td>4.90</td>\n",
       "    </tr>\n",
       "    <tr>\n",
       "      <th>19</th>\n",
       "      <td>19</td>\n",
       "      <td>Chamalo71</td>\n",
       "      <td>30</td>\n",
       "      <td>Male</td>\n",
       "      <td>89</td>\n",
       "      <td>Blazefury, Protector of Delusions</td>\n",
       "      <td>4.64</td>\n",
       "    </tr>\n",
       "    <tr>\n",
       "      <th>20</th>\n",
       "      <td>20</td>\n",
       "      <td>Iathenudil29</td>\n",
       "      <td>20</td>\n",
       "      <td>Male</td>\n",
       "      <td>57</td>\n",
       "      <td>Despair, Favor of Due Diligence</td>\n",
       "      <td>4.60</td>\n",
       "    </tr>\n",
       "    <tr>\n",
       "      <th>21</th>\n",
       "      <td>21</td>\n",
       "      <td>Phiarithdeu40</td>\n",
       "      <td>20</td>\n",
       "      <td>Male</td>\n",
       "      <td>168</td>\n",
       "      <td>Sun Strike, Jaws of Twisted Visions</td>\n",
       "      <td>1.48</td>\n",
       "    </tr>\n",
       "    <tr>\n",
       "      <th>22</th>\n",
       "      <td>22</td>\n",
       "      <td>Siarithria38</td>\n",
       "      <td>38</td>\n",
       "      <td>Other / Non-Disclosed</td>\n",
       "      <td>24</td>\n",
       "      <td>Warped Fetish</td>\n",
       "      <td>3.81</td>\n",
       "    </tr>\n",
       "    <tr>\n",
       "      <th>23</th>\n",
       "      <td>23</td>\n",
       "      <td>Eyrian71</td>\n",
       "      <td>40</td>\n",
       "      <td>Male</td>\n",
       "      <td>151</td>\n",
       "      <td>Severance</td>\n",
       "      <td>3.40</td>\n",
       "    </tr>\n",
       "    <tr>\n",
       "      <th>24</th>\n",
       "      <td>24</td>\n",
       "      <td>Siala43</td>\n",
       "      <td>30</td>\n",
       "      <td>Male</td>\n",
       "      <td>141</td>\n",
       "      <td>Persuasion</td>\n",
       "      <td>3.19</td>\n",
       "    </tr>\n",
       "    <tr>\n",
       "      <th>25</th>\n",
       "      <td>25</td>\n",
       "      <td>Lisirra87</td>\n",
       "      <td>29</td>\n",
       "      <td>Male</td>\n",
       "      <td>178</td>\n",
       "      <td>Oathbreaker, Last Hope of the Breaking Storm</td>\n",
       "      <td>4.23</td>\n",
       "    </tr>\n",
       "    <tr>\n",
       "      <th>26</th>\n",
       "      <td>26</td>\n",
       "      <td>Lirtossa84</td>\n",
       "      <td>11</td>\n",
       "      <td>Male</td>\n",
       "      <td>71</td>\n",
       "      <td>Demise</td>\n",
       "      <td>1.61</td>\n",
       "    </tr>\n",
       "    <tr>\n",
       "      <th>27</th>\n",
       "      <td>27</td>\n",
       "      <td>Eusri44</td>\n",
       "      <td>7</td>\n",
       "      <td>Male</td>\n",
       "      <td>96</td>\n",
       "      <td>Blood-Forged Skeletal Spine</td>\n",
       "      <td>3.09</td>\n",
       "    </tr>\n",
       "    <tr>\n",
       "      <th>28</th>\n",
       "      <td>28</td>\n",
       "      <td>Aela59</td>\n",
       "      <td>21</td>\n",
       "      <td>Male</td>\n",
       "      <td>119</td>\n",
       "      <td>Stormbringer, Dark Blade of Ending Misery</td>\n",
       "      <td>4.32</td>\n",
       "    </tr>\n",
       "    <tr>\n",
       "      <th>29</th>\n",
       "      <td>29</td>\n",
       "      <td>Tyida79</td>\n",
       "      <td>24</td>\n",
       "      <td>Male</td>\n",
       "      <td>37</td>\n",
       "      <td>Shadow Strike, Glory of Ending Hope</td>\n",
       "      <td>3.16</td>\n",
       "    </tr>\n",
       "    <tr>\n",
       "      <th>30</th>\n",
       "      <td>30</td>\n",
       "      <td>Idai61</td>\n",
       "      <td>19</td>\n",
       "      <td>Male</td>\n",
       "      <td>140</td>\n",
       "      <td>Striker</td>\n",
       "      <td>2.94</td>\n",
       "    </tr>\n",
       "    <tr>\n",
       "      <th>31</th>\n",
       "      <td>31</td>\n",
       "      <td>Farusrian86</td>\n",
       "      <td>37</td>\n",
       "      <td>Male</td>\n",
       "      <td>179</td>\n",
       "      <td>Wolf, Promise of the Moonwalker</td>\n",
       "      <td>4.48</td>\n",
       "    </tr>\n",
       "    <tr>\n",
       "      <th>32</th>\n",
       "      <td>32</td>\n",
       "      <td>Aeralria27</td>\n",
       "      <td>10</td>\n",
       "      <td>Male</td>\n",
       "      <td>133</td>\n",
       "      <td>Faith's Scimitar</td>\n",
       "      <td>4.09</td>\n",
       "    </tr>\n",
       "    <tr>\n",
       "      <th>33</th>\n",
       "      <td>33</td>\n",
       "      <td>Haillyrgue51</td>\n",
       "      <td>7</td>\n",
       "      <td>Male</td>\n",
       "      <td>44</td>\n",
       "      <td>Bonecarvin Battle Axe</td>\n",
       "      <td>2.38</td>\n",
       "    </tr>\n",
       "    <tr>\n",
       "      <th>34</th>\n",
       "      <td>34</td>\n",
       "      <td>Sondim73</td>\n",
       "      <td>19</td>\n",
       "      <td>Male</td>\n",
       "      <td>160</td>\n",
       "      <td>Azurewrath</td>\n",
       "      <td>4.40</td>\n",
       "    </tr>\n",
       "    <tr>\n",
       "      <th>35</th>\n",
       "      <td>35</td>\n",
       "      <td>Jeyciman68</td>\n",
       "      <td>22</td>\n",
       "      <td>Male</td>\n",
       "      <td>53</td>\n",
       "      <td>Vengeance Cleaver</td>\n",
       "      <td>2.05</td>\n",
       "    </tr>\n",
       "    <tr>\n",
       "      <th>36</th>\n",
       "      <td>36</td>\n",
       "      <td>Idaisuir85</td>\n",
       "      <td>30</td>\n",
       "      <td>Male</td>\n",
       "      <td>76</td>\n",
       "      <td>Haunted Bronzed Bludgeon</td>\n",
       "      <td>3.15</td>\n",
       "    </tr>\n",
       "    <tr>\n",
       "      <th>37</th>\n",
       "      <td>37</td>\n",
       "      <td>Seuthep89</td>\n",
       "      <td>8</td>\n",
       "      <td>Male</td>\n",
       "      <td>73</td>\n",
       "      <td>Ritual Mace</td>\n",
       "      <td>2.05</td>\n",
       "    </tr>\n",
       "    <tr>\n",
       "      <th>38</th>\n",
       "      <td>38</td>\n",
       "      <td>Reulae52</td>\n",
       "      <td>10</td>\n",
       "      <td>Female</td>\n",
       "      <td>116</td>\n",
       "      <td>Renewed Skeletal Katana</td>\n",
       "      <td>4.18</td>\n",
       "    </tr>\n",
       "    <tr>\n",
       "      <th>39</th>\n",
       "      <td>39</td>\n",
       "      <td>Sondilsaya62</td>\n",
       "      <td>21</td>\n",
       "      <td>Male</td>\n",
       "      <td>172</td>\n",
       "      <td>Blade of the Grave</td>\n",
       "      <td>3.14</td>\n",
       "    </tr>\n",
       "  </tbody>\n",
       "</table>\n",
       "</div>"
      ],
      "text/plain": [
       "    Purchase ID             SN  Age                 Gender  Item ID  \\\n",
       "0             0        Lisim78   20                   Male      108   \n",
       "1             1    Lisovynya38   40                   Male      143   \n",
       "2             2     Ithergue48   24                   Male       92   \n",
       "3             3  Chamassasya86   24                   Male      100   \n",
       "4             4      Iskosia90   23                   Male      131   \n",
       "5             5        Yalae81   22                   Male       81   \n",
       "6             6      Itheria73   36                   Male      169   \n",
       "7             7    Iskjaskst81   20                   Male      162   \n",
       "8             8      Undjask33   22                   Male       21   \n",
       "9             9    Chanosian48   35  Other / Non-Disclosed      136   \n",
       "10           10      Inguron55   23                   Male       95   \n",
       "11           11   Haisrisuir60   23                   Male      162   \n",
       "12           12   Saelaephos52   21                   Male      116   \n",
       "13           13    Assjaskan73   22                   Male        4   \n",
       "14           14    Saesrideu94   35                   Male      165   \n",
       "15           15      Lisassa64   21                 Female       98   \n",
       "16           16      Lisirra25   20                   Male       40   \n",
       "17           17      Zontibe81   21                   Male      161   \n",
       "18           18      Reunasu60   22                 Female       82   \n",
       "19           19      Chamalo71   30                   Male       89   \n",
       "20           20   Iathenudil29   20                   Male       57   \n",
       "21           21  Phiarithdeu40   20                   Male      168   \n",
       "22           22   Siarithria38   38  Other / Non-Disclosed       24   \n",
       "23           23       Eyrian71   40                   Male      151   \n",
       "24           24        Siala43   30                   Male      141   \n",
       "25           25      Lisirra87   29                   Male      178   \n",
       "26           26     Lirtossa84   11                   Male       71   \n",
       "27           27        Eusri44    7                   Male       96   \n",
       "28           28         Aela59   21                   Male      119   \n",
       "29           29        Tyida79   24                   Male       37   \n",
       "30           30         Idai61   19                   Male      140   \n",
       "31           31    Farusrian86   37                   Male      179   \n",
       "32           32     Aeralria27   10                   Male      133   \n",
       "33           33   Haillyrgue51    7                   Male       44   \n",
       "34           34       Sondim73   19                   Male      160   \n",
       "35           35     Jeyciman68   22                   Male       53   \n",
       "36           36     Idaisuir85   30                   Male       76   \n",
       "37           37      Seuthep89    8                   Male       73   \n",
       "38           38       Reulae52   10                 Female      116   \n",
       "39           39   Sondilsaya62   21                   Male      172   \n",
       "\n",
       "                                       Item Name  Price  \n",
       "0      Extraction, Quickblade Of Trembling Hands   3.53  \n",
       "1                              Frenzied Scimitar   1.56  \n",
       "2                                   Final Critic   4.88  \n",
       "3                                    Blindscythe   3.27  \n",
       "4                                           Fury   1.44  \n",
       "5                                      Dreamkiss   3.61  \n",
       "6         Interrogator, Blood Blade of the Queen   2.18  \n",
       "7                                  Abyssal Shard   2.67  \n",
       "8                                      Souleater   1.10  \n",
       "9                   Ghastly Adamantite Protector   3.58  \n",
       "10                         Singed Onyx Warscythe   4.74  \n",
       "11                                 Abyssal Shard   2.67  \n",
       "12                       Renewed Skeletal Katana   4.18  \n",
       "13                            Bloodlord's Fetish   1.70  \n",
       "14                   Bone Crushing Silver Skewer   4.86  \n",
       "15                   Deadline, Voice Of Subtlety   2.89  \n",
       "16                                 Second Chance   2.52  \n",
       "17                                        Devine   1.76  \n",
       "18                                       Nirvana   4.90  \n",
       "19             Blazefury, Protector of Delusions   4.64  \n",
       "20               Despair, Favor of Due Diligence   4.60  \n",
       "21           Sun Strike, Jaws of Twisted Visions   1.48  \n",
       "22                                 Warped Fetish   3.81  \n",
       "23                                     Severance   3.40  \n",
       "24                                    Persuasion   3.19  \n",
       "25  Oathbreaker, Last Hope of the Breaking Storm   4.23  \n",
       "26                                        Demise   1.61  \n",
       "27                   Blood-Forged Skeletal Spine   3.09  \n",
       "28     Stormbringer, Dark Blade of Ending Misery   4.32  \n",
       "29           Shadow Strike, Glory of Ending Hope   3.16  \n",
       "30                                       Striker   2.94  \n",
       "31               Wolf, Promise of the Moonwalker   4.48  \n",
       "32                              Faith's Scimitar   4.09  \n",
       "33                         Bonecarvin Battle Axe   2.38  \n",
       "34                                    Azurewrath   4.40  \n",
       "35                             Vengeance Cleaver   2.05  \n",
       "36                      Haunted Bronzed Bludgeon   3.15  \n",
       "37                                   Ritual Mace   2.05  \n",
       "38                       Renewed Skeletal Katana   4.18  \n",
       "39                            Blade of the Grave   3.14  "
      ]
     },
     "execution_count": 116,
     "metadata": {},
     "output_type": "execute_result"
    }
   ],
   "source": [
    "data.head(40)"
   ]
  },
  {
   "cell_type": "markdown",
   "id": "21e5d086",
   "metadata": {},
   "source": [
    "## Player Count:"
   ]
  },
  {
   "cell_type": "code",
   "execution_count": 30,
   "id": "417dcb5c",
   "metadata": {},
   "outputs": [
    {
     "name": "stdout",
     "output_type": "stream",
     "text": [
      "Total player counts are:  780\n"
     ]
    }
   ],
   "source": [
    "total_players = data['Purchase ID'].count()\n",
    "print(\"Total player counts are: \",total_players)"
   ]
  },
  {
   "cell_type": "markdown",
   "id": "ddc5f724",
   "metadata": {},
   "source": [
    "## Purchasing Analysis (Total):"
   ]
  },
  {
   "cell_type": "markdown",
   "id": "6d0cc72a",
   "metadata": {},
   "source": [
    "### Number of unique Items:"
   ]
  },
  {
   "cell_type": "code",
   "execution_count": 16,
   "id": "982222c6",
   "metadata": {},
   "outputs": [
    {
     "name": "stdout",
     "output_type": "stream",
     "text": [
      "Total unique items are:  179\n"
     ]
    }
   ],
   "source": [
    "data['Item Name'].unique()\n",
    "print(\"Total unique items are: \",data['Item Name'].unique().size)"
   ]
  },
  {
   "cell_type": "markdown",
   "id": "c751d8b9",
   "metadata": {},
   "source": [
    "### Average Purchase Price:"
   ]
  },
  {
   "cell_type": "code",
   "execution_count": 17,
   "id": "857c342b",
   "metadata": {},
   "outputs": [
    {
     "name": "stdout",
     "output_type": "stream",
     "text": [
      "The average purchase price is: 3.050987179487176\n"
     ]
    }
   ],
   "source": [
    "avg = data['Price'].mean()\n",
    "print(\"The average purchase price is:\", avg)"
   ]
  },
  {
   "cell_type": "markdown",
   "id": "384264d8",
   "metadata": {},
   "source": [
    "### Total Number of Purchases:"
   ]
  },
  {
   "cell_type": "code",
   "execution_count": 18,
   "id": "b545bc00",
   "metadata": {},
   "outputs": [
    {
     "name": "stdout",
     "output_type": "stream",
     "text": [
      "Total no of purchases are:  780\n"
     ]
    }
   ],
   "source": [
    "print(\"Total no of purchases are: \",data['Purchase ID'].count())"
   ]
  },
  {
   "cell_type": "markdown",
   "id": "94f56ba2",
   "metadata": {},
   "source": [
    "## Gender Demographics:"
   ]
  },
  {
   "cell_type": "markdown",
   "id": "2cbb5086",
   "metadata": {},
   "source": [
    "### Percentage and Count of Male Players:"
   ]
  },
  {
   "cell_type": "code",
   "execution_count": 35,
   "id": "c305c7ae",
   "metadata": {},
   "outputs": [
    {
     "data": {
      "text/html": [
       "<div>\n",
       "<style scoped>\n",
       "    .dataframe tbody tr th:only-of-type {\n",
       "        vertical-align: middle;\n",
       "    }\n",
       "\n",
       "    .dataframe tbody tr th {\n",
       "        vertical-align: top;\n",
       "    }\n",
       "\n",
       "    .dataframe thead th {\n",
       "        text-align: right;\n",
       "    }\n",
       "</style>\n",
       "<table border=\"1\" class=\"dataframe\">\n",
       "  <thead>\n",
       "    <tr style=\"text-align: right;\">\n",
       "      <th></th>\n",
       "      <th>Total Players</th>\n",
       "      <th>no_of_males</th>\n",
       "      <th>percent_male</th>\n",
       "    </tr>\n",
       "  </thead>\n",
       "  <tbody>\n",
       "    <tr>\n",
       "      <th>0</th>\n",
       "      <td>780</td>\n",
       "      <td>652</td>\n",
       "      <td>83.589744</td>\n",
       "    </tr>\n",
       "  </tbody>\n",
       "</table>\n",
       "</div>"
      ],
      "text/plain": [
       "   Total Players  no_of_males  percent_male\n",
       "0            780          652     83.589744"
      ]
     },
     "execution_count": 35,
     "metadata": {},
     "output_type": "execute_result"
    }
   ],
   "source": [
    "no_of_males= data[data['Gender']=='Male'].Gender.count()\n",
    "total_players\n",
    "percent_male = (no_of_males/total_players)*100\n",
    "pd.DataFrame(\n",
    "    {'Total Players':[total_players],\n",
    "    'no_of_males':[no_of_males],\n",
    "    'percent_male':[percent_male]}\n",
    ")"
   ]
  },
  {
   "cell_type": "markdown",
   "id": "bd781ae7",
   "metadata": {},
   "source": [
    "### Percentage and Count of Female Players:"
   ]
  },
  {
   "cell_type": "code",
   "execution_count": 36,
   "id": "ff48ac7d",
   "metadata": {},
   "outputs": [
    {
     "data": {
      "text/html": [
       "<div>\n",
       "<style scoped>\n",
       "    .dataframe tbody tr th:only-of-type {\n",
       "        vertical-align: middle;\n",
       "    }\n",
       "\n",
       "    .dataframe tbody tr th {\n",
       "        vertical-align: top;\n",
       "    }\n",
       "\n",
       "    .dataframe thead th {\n",
       "        text-align: right;\n",
       "    }\n",
       "</style>\n",
       "<table border=\"1\" class=\"dataframe\">\n",
       "  <thead>\n",
       "    <tr style=\"text-align: right;\">\n",
       "      <th></th>\n",
       "      <th>Total Players</th>\n",
       "      <th>no_of_females</th>\n",
       "      <th>percent_female</th>\n",
       "    </tr>\n",
       "  </thead>\n",
       "  <tbody>\n",
       "    <tr>\n",
       "      <th>0</th>\n",
       "      <td>780</td>\n",
       "      <td>113</td>\n",
       "      <td>14.487179</td>\n",
       "    </tr>\n",
       "  </tbody>\n",
       "</table>\n",
       "</div>"
      ],
      "text/plain": [
       "   Total Players  no_of_females  percent_female\n",
       "0            780            113       14.487179"
      ]
     },
     "execution_count": 36,
     "metadata": {},
     "output_type": "execute_result"
    }
   ],
   "source": [
    "no_of_females= data[data['Gender']=='Female'].Gender.count()\n",
    "total_players\n",
    "percent_female = (no_of_females/total_players)*100\n",
    "pd.DataFrame(\n",
    "    {'Total Players':[total_players],\n",
    "    'no_of_females':[no_of_females],\n",
    "    'percent_female':[percent_female]}\n",
    ")"
   ]
  },
  {
   "cell_type": "markdown",
   "id": "6c6fc8ec",
   "metadata": {},
   "source": [
    "### Percentage and Count of Other / Non-Disclosed:"
   ]
  },
  {
   "cell_type": "code",
   "execution_count": 46,
   "id": "28300eda",
   "metadata": {},
   "outputs": [
    {
     "data": {
      "text/html": [
       "<div>\n",
       "<style scoped>\n",
       "    .dataframe tbody tr th:only-of-type {\n",
       "        vertical-align: middle;\n",
       "    }\n",
       "\n",
       "    .dataframe tbody tr th {\n",
       "        vertical-align: top;\n",
       "    }\n",
       "\n",
       "    .dataframe thead th {\n",
       "        text-align: right;\n",
       "    }\n",
       "</style>\n",
       "<table border=\"1\" class=\"dataframe\">\n",
       "  <thead>\n",
       "    <tr style=\"text-align: right;\">\n",
       "      <th></th>\n",
       "      <th>Total Players</th>\n",
       "      <th>no_of_others</th>\n",
       "      <th>percent_others</th>\n",
       "    </tr>\n",
       "  </thead>\n",
       "  <tbody>\n",
       "    <tr>\n",
       "      <th>0</th>\n",
       "      <td>780</td>\n",
       "      <td>15</td>\n",
       "      <td>1.923077</td>\n",
       "    </tr>\n",
       "  </tbody>\n",
       "</table>\n",
       "</div>"
      ],
      "text/plain": [
       "   Total Players  no_of_others  percent_others\n",
       "0            780            15        1.923077"
      ]
     },
     "execution_count": 46,
     "metadata": {},
     "output_type": "execute_result"
    }
   ],
   "source": [
    "no_of_others= data[data['Gender']=='Other / Non-Disclosed'].Gender.count()\n",
    "total_players\n",
    "percent_others = (no_of_others/total_players)*100\n",
    "pd.DataFrame(\n",
    "    {'Total Players':[total_players],\n",
    "    'no_of_others':[no_of_others],\n",
    "    'percent_others':[percent_others]}\n",
    ")"
   ]
  },
  {
   "cell_type": "markdown",
   "id": "e08e47af",
   "metadata": {},
   "source": [
    "## Purchasing Analysis (Gender):"
   ]
  },
  {
   "cell_type": "markdown",
   "id": "8ef804f8",
   "metadata": {},
   "source": [
    "### Average Purchase Price (Male):"
   ]
  },
  {
   "cell_type": "code",
   "execution_count": 50,
   "id": "9197ed1e",
   "metadata": {},
   "outputs": [
    {
     "data": {
      "text/plain": [
       "3.0178527607361953"
      ]
     },
     "execution_count": 50,
     "metadata": {},
     "output_type": "execute_result"
    }
   ],
   "source": [
    " data[data['Gender']=='Male'].Price.mean()"
   ]
  },
  {
   "cell_type": "markdown",
   "id": "5fa51732",
   "metadata": {},
   "source": [
    "### Average Purchase Price (Female):"
   ]
  },
  {
   "cell_type": "code",
   "execution_count": 51,
   "id": "e7fec1ab",
   "metadata": {},
   "outputs": [
    {
     "data": {
      "text/plain": [
       "3.203008849557519"
      ]
     },
     "execution_count": 51,
     "metadata": {},
     "output_type": "execute_result"
    }
   ],
   "source": [
    " data[data['Gender']=='Female'].Price.mean()"
   ]
  },
  {
   "cell_type": "markdown",
   "id": "fff0562d",
   "metadata": {},
   "source": [
    "### Total Purchase Price (Male):"
   ]
  },
  {
   "cell_type": "code",
   "execution_count": 52,
   "id": "c567a467",
   "metadata": {},
   "outputs": [
    {
     "data": {
      "text/plain": [
       "1967.64"
      ]
     },
     "execution_count": 52,
     "metadata": {},
     "output_type": "execute_result"
    }
   ],
   "source": [
    " data[data['Gender']=='Male'].Price.sum()"
   ]
  },
  {
   "cell_type": "markdown",
   "id": "032af1d8",
   "metadata": {},
   "source": [
    "### Total Purchase Price (Female):"
   ]
  },
  {
   "cell_type": "code",
   "execution_count": 53,
   "id": "d019198d",
   "metadata": {},
   "outputs": [
    {
     "data": {
      "text/plain": [
       "361.94"
      ]
     },
     "execution_count": 53,
     "metadata": {},
     "output_type": "execute_result"
    }
   ],
   "source": [
    " data[data['Gender']=='Female'].Price.sum()"
   ]
  },
  {
   "cell_type": "markdown",
   "id": "9b4867ab",
   "metadata": {},
   "source": [
    "### Average Purchase Price (Others):"
   ]
  },
  {
   "cell_type": "code",
   "execution_count": 54,
   "id": "53ea5455",
   "metadata": {},
   "outputs": [
    {
     "data": {
      "text/plain": [
       "3.3460000000000005"
      ]
     },
     "execution_count": 54,
     "metadata": {},
     "output_type": "execute_result"
    }
   ],
   "source": [
    "data[data['Gender']=='Other / Non-Disclosed'].Price.mean()"
   ]
  },
  {
   "cell_type": "markdown",
   "id": "ae1510c4",
   "metadata": {},
   "source": [
    "### Total Purchase Price (Others):"
   ]
  },
  {
   "cell_type": "code",
   "execution_count": 55,
   "id": "10250715",
   "metadata": {},
   "outputs": [
    {
     "data": {
      "text/plain": [
       "50.19"
      ]
     },
     "execution_count": 55,
     "metadata": {},
     "output_type": "execute_result"
    }
   ],
   "source": [
    "data[data['Gender']=='Other / Non-Disclosed'].Price.sum()"
   ]
  },
  {
   "cell_type": "markdown",
   "id": "036346c8",
   "metadata": {},
   "source": [
    "## Age Demographics:"
   ]
  },
  {
   "cell_type": "markdown",
   "id": "d236a186",
   "metadata": {},
   "source": [
    "### Age < 10:"
   ]
  },
  {
   "cell_type": "markdown",
   "id": "db43187d",
   "metadata": {},
   "source": [
    "#### Purchase Count:"
   ]
  },
  {
   "cell_type": "code",
   "execution_count": 69,
   "id": "af34828a",
   "metadata": {},
   "outputs": [
    {
     "name": "stdout",
     "output_type": "stream",
     "text": [
      "Purchase Count of those their age less than 10 is : 23\n"
     ]
    }
   ],
   "source": [
    "Ageless10= data[data['Age']<10].Age.count()\n",
    "print(\"Purchase Count of those their age less than 10 is :\",Ageless10)"
   ]
  },
  {
   "cell_type": "markdown",
   "id": "ea5fa029",
   "metadata": {},
   "source": [
    "#### Average Purchase Price:"
   ]
  },
  {
   "cell_type": "code",
   "execution_count": 70,
   "id": "6f799f7f",
   "metadata": {},
   "outputs": [
    {
     "name": "stdout",
     "output_type": "stream",
     "text": [
      "Price average is : 3.353478260869565\n"
     ]
    }
   ],
   "source": [
    "Ageless10PriceAvg =data[data['Age']<10].Price.mean()\n",
    "print(\"Price average is :\",Ageless10PriceAvg)"
   ]
  },
  {
   "cell_type": "markdown",
   "id": "10dce1c4",
   "metadata": {},
   "source": [
    "#### Total Purchase Value:"
   ]
  },
  {
   "cell_type": "code",
   "execution_count": 104,
   "id": "26312e1b",
   "metadata": {},
   "outputs": [
    {
     "name": "stdout",
     "output_type": "stream",
     "text": [
      "The Total is : 77.13\n"
     ]
    }
   ],
   "source": [
    "Ageless10PriceSum =data[data['Age']<10].Price.sum()\n",
    "print(\"The Total is :\",Ageless10PriceSum)"
   ]
  },
  {
   "cell_type": "markdown",
   "id": "a4296af8",
   "metadata": {},
   "source": [
    "### Age between 10 and 14:"
   ]
  },
  {
   "cell_type": "markdown",
   "id": "c261a39f",
   "metadata": {},
   "source": [
    "#### Purchase Count:"
   ]
  },
  {
   "cell_type": "code",
   "execution_count": 99,
   "id": "de3e2994",
   "metadata": {},
   "outputs": [
    {
     "name": "stdout",
     "output_type": "stream",
     "text": [
      "Purchase Count of those their age between 10 and 14 is : 28\n"
     ]
    }
   ],
   "source": [
    "Agebet1014 = data[data['Age'].between(10,14,inclusive='both')].Age.count()\n",
    "print(\"Purchase Count of those their age between 10 and 14 is :\",Agebet1014)"
   ]
  },
  {
   "cell_type": "markdown",
   "id": "2eaa0e53",
   "metadata": {},
   "source": [
    "#### Average Purchase Price:"
   ]
  },
  {
   "cell_type": "code",
   "execution_count": 102,
   "id": "51704400",
   "metadata": {},
   "outputs": [
    {
     "name": "stdout",
     "output_type": "stream",
     "text": [
      "Price average is : 2.956428571428571\n"
     ]
    }
   ],
   "source": [
    "Agebet1014PriceAvg =data[data['Age'].between(10,14,inclusive='both')].Price.mean()\n",
    "print(\"Price average is :\",Agebet1014PriceAvg)"
   ]
  },
  {
   "cell_type": "markdown",
   "id": "f0cfddc9",
   "metadata": {},
   "source": [
    "#### Total Purchase Value:"
   ]
  },
  {
   "cell_type": "code",
   "execution_count": 103,
   "id": "74bd0d8a",
   "metadata": {},
   "outputs": [
    {
     "name": "stdout",
     "output_type": "stream",
     "text": [
      "The Total is : 82.78\n"
     ]
    }
   ],
   "source": [
    "Agebet1014PriceSum =data[data['Age'].between(10,14,inclusive='both')].Price.sum()\n",
    "print(\"The Total is :\",Agebet1014PriceSum)"
   ]
  },
  {
   "cell_type": "markdown",
   "id": "293d47ea",
   "metadata": {},
   "source": [
    "### Age greater than equals to 15:"
   ]
  },
  {
   "cell_type": "markdown",
   "id": "f3d378fc",
   "metadata": {},
   "source": [
    "#### Purchase Count:"
   ]
  },
  {
   "cell_type": "code",
   "execution_count": 105,
   "id": "ee7023e3",
   "metadata": {},
   "outputs": [
    {
     "name": "stdout",
     "output_type": "stream",
     "text": [
      "Purchase Count of those their age greater than or equals to 15 is : 729\n"
     ]
    }
   ],
   "source": [
    "Agegreat15 = data[data['Age']>=15].Age.count()\n",
    "print(\"Purchase Count of those their age greater than or equals to 15 is :\",Agegreat15)"
   ]
  },
  {
   "cell_type": "markdown",
   "id": "bf362eaf",
   "metadata": {},
   "source": [
    "#### Average Purchase Price:"
   ]
  },
  {
   "cell_type": "code",
   "execution_count": 107,
   "id": "a276a355",
   "metadata": {},
   "outputs": [
    {
     "name": "stdout",
     "output_type": "stream",
     "text": [
      "Price average is : 3.0450754458161855\n"
     ]
    }
   ],
   "source": [
    "Agegreat15PriceAvg =data[data['Age']>=15].Price.mean()\n",
    "print(\"Price average is :\",Agegreat15PriceAvg)"
   ]
  },
  {
   "cell_type": "markdown",
   "id": "185c1ef9",
   "metadata": {},
   "source": [
    "#### Total Purchase Value:"
   ]
  },
  {
   "cell_type": "code",
   "execution_count": 108,
   "id": "285310cb",
   "metadata": {},
   "outputs": [
    {
     "name": "stdout",
     "output_type": "stream",
     "text": [
      "The Total is : 2219.86\n"
     ]
    }
   ],
   "source": [
    "Agegreat15PriceSum =data[data['Age']>=15].Price.sum()\n",
    "print(\"The Total is :\",Agegreat15PriceSum)"
   ]
  },
  {
   "cell_type": "markdown",
   "id": "89a73f80",
   "metadata": {},
   "source": [
    "## Top Spenders:"
   ]
  },
  {
   "cell_type": "code",
   "execution_count": 169,
   "id": "1d7df13e",
   "metadata": {},
   "outputs": [
    {
     "data": {
      "text/html": [
       "<div>\n",
       "<style scoped>\n",
       "    .dataframe tbody tr th:only-of-type {\n",
       "        vertical-align: middle;\n",
       "    }\n",
       "\n",
       "    .dataframe tbody tr th {\n",
       "        vertical-align: top;\n",
       "    }\n",
       "\n",
       "    .dataframe thead th {\n",
       "        text-align: right;\n",
       "    }\n",
       "</style>\n",
       "<table border=\"1\" class=\"dataframe\">\n",
       "  <thead>\n",
       "    <tr style=\"text-align: right;\">\n",
       "      <th></th>\n",
       "      <th>SN</th>\n",
       "      <th>Total Purchase Value</th>\n",
       "      <th>Purchase Count</th>\n",
       "      <th>Average Purchase Price</th>\n",
       "    </tr>\n",
       "  </thead>\n",
       "  <tbody>\n",
       "    <tr>\n",
       "      <th>0</th>\n",
       "      <td>Lisosia93</td>\n",
       "      <td>18.96</td>\n",
       "      <td>5</td>\n",
       "      <td>3.792000</td>\n",
       "    </tr>\n",
       "    <tr>\n",
       "      <th>1</th>\n",
       "      <td>Idastidru52</td>\n",
       "      <td>15.45</td>\n",
       "      <td>4</td>\n",
       "      <td>3.862500</td>\n",
       "    </tr>\n",
       "    <tr>\n",
       "      <th>2</th>\n",
       "      <td>Chamjask73</td>\n",
       "      <td>13.83</td>\n",
       "      <td>3</td>\n",
       "      <td>4.610000</td>\n",
       "    </tr>\n",
       "    <tr>\n",
       "      <th>3</th>\n",
       "      <td>Iral74</td>\n",
       "      <td>13.62</td>\n",
       "      <td>4</td>\n",
       "      <td>3.405000</td>\n",
       "    </tr>\n",
       "    <tr>\n",
       "      <th>4</th>\n",
       "      <td>Iskadarya95</td>\n",
       "      <td>13.10</td>\n",
       "      <td>3</td>\n",
       "      <td>4.366667</td>\n",
       "    </tr>\n",
       "  </tbody>\n",
       "</table>\n",
       "</div>"
      ],
      "text/plain": [
       "            SN  Total Purchase Value  Purchase Count  Average Purchase Price\n",
       "0    Lisosia93                 18.96               5                3.792000\n",
       "1  Idastidru52                 15.45               4                3.862500\n",
       "2   Chamjask73                 13.83               3                4.610000\n",
       "3       Iral74                 13.62               4                3.405000\n",
       "4  Iskadarya95                 13.10               3                4.366667"
      ]
     },
     "execution_count": 169,
     "metadata": {},
     "output_type": "execute_result"
    }
   ],
   "source": [
    "data1 = data.groupby('SN').sum().reset_index().sort_values(by=['Price'],ascending=False)## get SN & Total Price\n",
    "data2 = data.groupby('SN').count().reset_index() ## get Price Counts\n",
    "data3 = pd.merge(data1,data2,on='SN')\n",
    "data3.rename(columns={'Price_x':'Total Purchase Value','Price_y':'Purchase Count'},inplace=True)\n",
    "data4 = data3[['SN','Total Purchase Value','Purchase Count']].head()\n",
    "data4['Average Purchase Price'] = data4['Total Purchase Value']/data4['Purchase Count']\n",
    "data4"
   ]
  },
  {
   "cell_type": "code",
   "execution_count": null,
   "id": "d33074fb",
   "metadata": {},
   "outputs": [],
   "source": []
  }
 ],
 "metadata": {
  "kernelspec": {
   "display_name": "Python 3 (ipykernel)",
   "language": "python",
   "name": "python3"
  },
  "language_info": {
   "codemirror_mode": {
    "name": "ipython",
    "version": 3
   },
   "file_extension": ".py",
   "mimetype": "text/x-python",
   "name": "python",
   "nbconvert_exporter": "python",
   "pygments_lexer": "ipython3",
   "version": "3.9.12"
  }
 },
 "nbformat": 4,
 "nbformat_minor": 5
}
